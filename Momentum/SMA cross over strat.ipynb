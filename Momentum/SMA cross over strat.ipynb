{
 "cells": [
  {
   "cell_type": "markdown",
   "id": "b32a02cd",
   "metadata": {},
   "source": [
    "# **MA Cross Over S&P 500**"
   ]
  },
  {
   "cell_type": "markdown",
   "id": "9e1cf137",
   "metadata": {},
   "source": [
    "This code is a backtest for optimising the moving averages (MA). The strategy works when the more sensitive moving average (lesser number of days used) crosses above the less sensitive moving average (greater number of days considered), the code opens a long position.\n",
    "\n",
    "The data used is sourced from yfinance, and is training data set from 01/01/2015, up to just after the first servere drop due to the COVID pandemic (Ending around November 2020). \n",
    "\n",
    "This is an optimisation test, where 2 for loops will be used, to test a range of sensitive MAs, with a range of less sensitive MAs. The classical strategy which many retail traders may consider is the 20 day MA with the 50 day MA, but here, we will determine which combination proves best, based on the backtest. Hence no forward testing is considered in this code. \n",
    "\n",
    "Each combination, the considerations will include: the number of trades made, average point increase or decrease per trade (points due to the S&P 500 being an index), the total point increase or decrease, the success rate (which is defined by the percentage of winning trades, a winning trade is a trade which has a positive point increase), maximum equity drawdown, maximum equity drawup, sharpe ratio (here the risk free rate for each year is taken as 1.85%). "
   ]
  },
  {
   "cell_type": "markdown",
   "id": "187dabea",
   "metadata": {},
   "source": [
    "## Importing useful libraries"
   ]
  },
  {
   "cell_type": "code",
   "execution_count": 5,
   "id": "a7fb6106",
   "metadata": {},
   "outputs": [],
   "source": [
    "import yfinance as yf\n",
    "import pandas as pd\n",
    "from sklearn.model_selection import train_test_split\n",
    "import statistics"
   ]
  },
  {
   "cell_type": "markdown",
   "id": "60ab5ba8",
   "metadata": {},
   "source": [
    "## Importing financial data"
   ]
  },
  {
   "cell_type": "code",
   "execution_count": 6,
   "id": "361c840c",
   "metadata": {},
   "outputs": [
    {
     "name": "stdout",
     "output_type": "stream",
     "text": [
      "[*********************100%***********************]  1 of 1 completed\n"
     ]
    }
   ],
   "source": [
    "symbol=\"SPY\"\n",
    "\n",
    "spy_data=yf.download(symbol, start=\"2015-01-01\", end=\"2023-05-31\")"
   ]
  },
  {
   "cell_type": "markdown",
   "id": "e97ea104",
   "metadata": {},
   "source": [
    "## Split data into a train and test split (70% for test and 30% for training)"
   ]
  },
  {
   "cell_type": "code",
   "execution_count": 7,
   "id": "65bd575e",
   "metadata": {},
   "outputs": [],
   "source": [
    "train_df, test_df=train_test_split(spy_data, test_size=0.3, shuffle=False)"
   ]
  },
  {
   "cell_type": "markdown",
   "id": "d2862f1f",
   "metadata": {},
   "source": [
    "## Here, this strategy will be working based on the 'Closing' value of the candles "
   ]
  },
  {
   "cell_type": "code",
   "execution_count": 8,
   "id": "c011326b",
   "metadata": {},
   "outputs": [],
   "source": [
    "train_df=train_df.iloc[:,3]\n",
    "test_df=test_df.iloc[:,3]"
   ]
  },
  {
   "cell_type": "markdown",
   "id": "92875acc",
   "metadata": {},
   "source": [
    "## Defining functions"
   ]
  },
  {
   "cell_type": "markdown",
   "id": "072a9845",
   "metadata": {},
   "source": [
    "2 moving averages are considered, for example a 20 day MA with a 40 MA. To represent a time to open a long position, the 20 day MA must cross over the 40 day MA. Therefore we need the 2 MA values for our current time period (today), and the previous time period (yesterday). With these 4 values, a cross over can be indentified, with signals an oppurtunity to open a long position."
   ]
  },
  {
   "cell_type": "code",
   "execution_count": 9,
   "id": "a4f22ecf",
   "metadata": {},
   "outputs": [],
   "source": [
    "def MA_ONE_today(train_df, MA_one, i):\n",
    "    ma_one_today=train_df.iloc[i-MA_one+1:i+1].mean()\n",
    "    return ma_one_today\n",
    "def MA_TWO_today(train_df, MA_two, i):\n",
    "    ma_two_today=train_df.iloc[i-MA_two+1:i+1].mean()\n",
    "    return ma_two_today\n",
    "def MA_ONE_yesterday(train_df, MA_one, i):\n",
    "    ma_one_yesterday=train_df.iloc[i-MA_one:i].mean()\n",
    "    return ma_one_yesterday\n",
    "def MA_TWO_yesterday(train_df, MA_two, i):\n",
    "    ma_two_yesterday=train_df.iloc[i-MA_two:i].mean()\n",
    "    return ma_two_yesterday\n",
    "def Sharpe_ratio_formula(year_expected_returns, Risk_free_rate):\n",
    "    average_expected_return=pd.Series(year_expected_returns).mean()\n",
    "    std_dev=statistics.stdev(year_expected_returns)\n",
    "    Sharpe_ratio=(average_expected_return-Risk_free_rate)/std_dev\n",
    "    return Sharpe_ratio"
   ]
  },
  {
   "cell_type": "markdown",
   "id": "a49561ad",
   "metadata": {},
   "source": [
    "## Defining empty lists, to append results to, and the risk free rate of 1.85%"
   ]
  },
  {
   "cell_type": "code",
   "execution_count": 16,
   "id": "92a26296",
   "metadata": {},
   "outputs": [],
   "source": [
    "first_moving_average=[]\n",
    "second_moving_average=[]\n",
    "average_point=[]\n",
    "numb_trades=[]\n",
    "Total_point=[]\n",
    "Success_rate=[]\n",
    "max_equity_drawdown=[]\n",
    "max_equity_drawup=[]\n",
    "Sharpe_ratios=[]\n",
    "Risk_free_rate=1.85"
   ]
  },
  {
   "cell_type": "markdown",
   "id": "70e0f0dd",
   "metadata": {},
   "source": [
    "## Now the Main body loop"
   ]
  },
  {
   "cell_type": "markdown",
   "id": "eeec5f13",
   "metadata": {},
   "source": [
    "The first for loop defines the sensitive MA. The second for loop defines the less sensitive MA. \n",
    "\n",
    "Then, for each combination the variables must be re-definded: trade_counter (number of trades made for this given combination) must be reset to 0, the total points made from this strategy must be reset to zero (points=0), etc etc. A list is defined year_expected_returns, this calculates the percentage increased, based on points increased (or decreased) over points required to invest. This is key, when calculating our sharpe ratio. \n",
    "\n",
    "Then the next for loop ranges historically through our training data set, where various combinations will now be tested.\n",
    "\n",
    "The functions are called, so the MAs for today are calculated, and the MAs for yesterday are calculated (a single row represents a single day). \n",
    "\n",
    "**BUYING CONDITIONS**\n",
    "To represent a buying condition (a MA cross over), the sensitive MA of today, must be greater then the less sensitive MA today (ma_one_today>ma_two_today), and the sensitive MA of yesterday must be less than the less sensitive MA of yesterday (ma_one_yesterday<ma_two_yesterday). And we must not currently have an open condition, hence open_position==0.\n",
    "\n",
    "With this condition satisfied, our buy price is now the current price: buy_price=train_df.iloc[i]\n",
    "\n",
    "This model therefore assumes zero slippage and ultra-low latency.\n",
    "\n",
    "**SELLING CONDITIONS**\n",
    "The only selling condition is based on when the sensitive MA crosses back below the less sensitive MA. And we have an current long position open.\n",
    "\n",
    "elif ma_one_today<ma_two_today and ma_one_yesterday>ma_two_yesterday and open_position==1:\n",
    "\n",
    "If this condition is met, the selling of our long postion is determined: sell_price=train_df.iloc[i]\n",
    "\n",
    "Therefore it can now be calculated if our trade has made an increase in points, or decrease, this is stored as the variable profit_loss. profit_loss=sell_price-buy_price.\n",
    "\n",
    "The equity drawdown or drawup of each trade, for each combination is stored in equity_drawdowns_drawups, and at the end of the loop for that specific combination, the max value (maximum equity drawup) and min value (maximum equity drawdown) will be taken. \n",
    "\n",
    "**Further code**\n",
    "Information for the sharpe ratio calculation is then calculated, when the code has iterated through 252 days (assuming 252 trading days per year in the US, this counter will then be set to zero), however the expected annual return for that year will be calcualted and append to a list, which will later be converted to a Series. \n",
    "\n",
    "Here is the main body:\n"
   ]
  },
  {
   "cell_type": "code",
   "execution_count": 35,
   "id": "d1329ab1",
   "metadata": {},
   "outputs": [],
   "source": [
    "for MA_one in range(5,49):\n",
    "    \n",
    "    for MA_two in range(15,120):\n",
    "        \n",
    "        open_position=0\n",
    "        trade_counter=0\n",
    "        points=0\n",
    "        point_increase_start_of_this_year=0\n",
    "        point_increase_this_year=0\n",
    "        winning_trades=0\n",
    "        second_counter=0\n",
    "        equity_drawdowns_drawups=[]\n",
    "        year_expected_returns=[]\n",
    "        \n",
    "\n",
    "        for i in range(MA_two,len(train_df)-1):\n",
    "            ma_one_today=MA_ONE_today(train_df, MA_one, i)\n",
    "            ma_two_today=MA_TWO_today(train_df, MA_two, i)\n",
    "            ma_one_yesterday=MA_ONE_yesterday(train_df, MA_one, i)\n",
    "            ma_two_yesterday=MA_TWO_yesterday(train_df, MA_two, i)\n",
    "            second_counter+=1\n",
    "            \n",
    "            \n",
    "            if (ma_one_today>ma_two_today and\n",
    "            ma_one_yesterday<ma_two_yesterday and \n",
    "            open_position==0):\n",
    "                buy_price=train_df.iloc[i]\n",
    "                \n",
    "                open_position=1\n",
    "            elif (ma_one_today<ma_two_today and \n",
    "            ma_one_yesterday>ma_two_yesterday and \n",
    "            open_position==1):\n",
    "                sell_price=train_df.iloc[i]\n",
    "                \n",
    "                profit_loss=sell_price-buy_price\n",
    "                percentage_win_loss=(sell_price-buy_price)/buy_price*100\n",
    "                equity_drawdowns_drawups.append(percentage_win_loss)\n",
    "                \n",
    "                points=points+profit_loss\n",
    "                \n",
    "                open_position=0\n",
    "                \n",
    "                trade_counter+=1\n",
    "                \n",
    "                if profit_loss>0:\n",
    "                    winning_trades+=1\n",
    "                    \n",
    "            if second_counter==252:\n",
    "                \n",
    "                point_increase_this_year=points-point_increase_start_of_this_year\n",
    "                point_increase_start_of_this_year=points\n",
    "                mean_cost=train_df.iloc[i-252+1:i+1].mean()\n",
    "                expected_return=point_increase_this_year/mean_cost*100\n",
    "                year_expected_returns.append(expected_return)\n",
    "                second_counter=0\n",
    "                \n",
    "        \n",
    "                \n",
    "                        \n",
    "        if trade_counter==0:\n",
    "            win_rate=0\n",
    "            greatest_equity_drawdown=0\n",
    "            greatest_equity_drawup=0\n",
    "            Sharpe_ratio=0\n",
    "            average_pnt=points\n",
    "        else:\n",
    "            win_rate=winning_trades/trade_counter\n",
    "            average_pnt=points/trade_counter\n",
    "            greatest_equity_drawdown=min(equity_drawdowns_drawups)\n",
    "            greatest_equity_drawup=max(equity_drawdowns_drawups)\n",
    "            Sharpe_ratio=Sharpe_ratio_formula(year_expected_returns, Risk_free_rate)\n",
    "            \n",
    "            \n",
    "        numb_trades.append(trade_counter)\n",
    "        first_moving_average.append(MA_one)\n",
    "        second_moving_average.append(MA_two)\n",
    "        average_point.append(average_pnt)\n",
    "        Success_rate.append(win_rate)\n",
    "        max_equity_drawdown.append(greatest_equity_drawdown)\n",
    "        max_equity_drawup.append(greatest_equity_drawup)\n",
    "        Sharpe_ratios.append(Sharpe_ratio)\n",
    "        Total_point.append(points)"
   ]
  },
  {
   "cell_type": "code",
   "execution_count": 36,
   "id": "43794d39",
   "metadata": {},
   "outputs": [],
   "source": [
    "df_results=pd.DataFrame({'First Moving Average': first_moving_average,\n",
    "                         'Second Moving Average': second_moving_average,\n",
    "                         'Revenue for these MAs':average_point, \n",
    "                         'Number of trades': numb_trades, \n",
    "                         'Total Point Increase/Decrease': Total_point, \n",
    "                         'Success Rate': Success_rate,\n",
    "                         'Maximum equity drawdown (Percentage)': max_equity_drawdown, \n",
    "                         'Maximum equity drawup (Percentage)': max_equity_drawup, \n",
    "                         'Sharpe Ratio': Sharpe_ratios })            "
   ]
  },
  {
   "cell_type": "code",
   "execution_count": 37,
   "id": "34ba0215",
   "metadata": {},
   "outputs": [
    {
     "name": "stdout",
     "output_type": "stream",
     "text": [
      "      First Moving Average  Second Moving Average  Revenue for these MAs  \\\n",
      "6021                    18                     23               2.785430   \n",
      "1373                    18                     23               2.785430   \n",
      "2219                    26                     29               3.497418   \n",
      "6867                    26                     29               3.497418   \n",
      "5710                    15                     27               2.267776   \n",
      "...                    ...                    ...                    ...   \n",
      "4329                    46                     39               1.262353   \n",
      "4121                    44                     41               1.095833   \n",
      "8769                    44                     41               1.095833   \n",
      "9082                    47                     39               1.660623   \n",
      "4434                    47                     39               1.660623   \n",
      "\n",
      "      Number of trades  Total Point Increase/Decrease  Success Rate  \\\n",
      "6021                35                      97.490036      0.628571   \n",
      "1373                35                      97.490036      0.628571   \n",
      "2219                31                     108.419952      0.645161   \n",
      "6867                31                     108.419952      0.645161   \n",
      "5710                27                      61.229965      0.555556   \n",
      "...                ...                            ...           ...   \n",
      "4329                17                      21.460007      0.647059   \n",
      "4121                24                      26.300003      0.541667   \n",
      "8769                24                      26.300003      0.541667   \n",
      "9082                16                      26.569962      0.625000   \n",
      "4434                16                      26.569962      0.625000   \n",
      "\n",
      "      Maximum equity drawdown (Percentage)  \\\n",
      "6021                            -10.894798   \n",
      "1373                            -10.894798   \n",
      "2219                             -5.236361   \n",
      "6867                             -5.236361   \n",
      "5710                             -5.074427   \n",
      "...                                    ...   \n",
      "4329                             -6.290388   \n",
      "4121                             -5.680833   \n",
      "8769                             -5.680833   \n",
      "9082                             -4.181124   \n",
      "4434                             -4.181124   \n",
      "\n",
      "      Maximum equity drawup (Percentage)  Sharpe Ratio  \n",
      "6021                           11.552921      2.763010  \n",
      "1373                           11.552921      2.763010  \n",
      "2219                           14.267290      2.730014  \n",
      "6867                           14.267290      2.730014  \n",
      "5710                            8.657802      2.490237  \n",
      "...                                  ...           ...  \n",
      "4329                            5.530815     -0.632036  \n",
      "4121                            5.028983     -0.676390  \n",
      "8769                            5.028983     -0.676390  \n",
      "9082                            4.849016     -0.751924  \n",
      "4434                            4.849016     -0.751924  \n",
      "\n",
      "[9268 rows x 9 columns]\n"
     ]
    }
   ],
   "source": [
    "df_results = df_results.sort_values(by='Sharpe Ratio', ascending=False)\n",
    "print(df_results)"
   ]
  },
  {
   "cell_type": "markdown",
   "id": "5b7f5635",
   "metadata": {},
   "source": [
    "From this information, the combination of using the more sensitive MA (=18) and the less sensitive MA (=23) results in a sharpe ratio of 2.76. The maximum equity drawdown is 10.9% of the accounts portfolio (assuming the total cash value has been invested). The total point increase over this trading period is 97.5 points. This overall increase does not compare to a traditional buy and hold of the S&P 500 which equates to the following value (+155.19):\n"
   ]
  },
  {
   "cell_type": "code",
   "execution_count": 38,
   "id": "faaea519",
   "metadata": {},
   "outputs": [
    {
     "name": "stdout",
     "output_type": "stream",
     "text": [
      "Overall point increase or decrease over this testing period is: 155.19000244140625\n"
     ]
    }
   ],
   "source": [
    "Trad_buy_and_hold = train_df.iloc[-1] - train_df.iloc[0]\n",
    "print(\"Overall point increase or decrease over this testing period is:\",\n",
    "      Trad_buy_and_hold)"
   ]
  }
 ],
 "metadata": {
  "kernelspec": {
   "display_name": "Python 3 (ipykernel)",
   "language": "python",
   "name": "python3"
  },
  "language_info": {
   "codemirror_mode": {
    "name": "ipython",
    "version": 3
   },
   "file_extension": ".py",
   "mimetype": "text/x-python",
   "name": "python",
   "nbconvert_exporter": "python",
   "pygments_lexer": "ipython3",
   "version": "3.10.9"
  }
 },
 "nbformat": 4,
 "nbformat_minor": 5
}
