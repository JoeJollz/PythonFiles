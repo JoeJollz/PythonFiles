{
  "cells": [
    {
      "cell_type": "code",
      "execution_count": 183,
      "metadata": {
        "colab": {
          "base_uri": "https://localhost:8080/"
        },
        "id": "4R6Q-K70ac-U",
        "outputId": "561f5593-b0a1-4abc-f1ae-c46e9e418845"
      },
      "outputs": [
        {
          "name": "stdout",
          "output_type": "stream",
          "text": [
            "Requirement already satisfied: requests in c:\\users\\jrjol\\anaconda\\lib\\site-packages (2.31.0)\n",
            "Requirement already satisfied: charset-normalizer<4,>=2 in c:\\users\\jrjol\\anaconda\\lib\\site-packages (from requests) (2.0.4)\n",
            "Requirement already satisfied: idna<4,>=2.5 in c:\\users\\jrjol\\anaconda\\lib\\site-packages (from requests) (3.4)\n",
            "Requirement already satisfied: urllib3<3,>=1.21.1 in c:\\users\\jrjol\\anaconda\\lib\\site-packages (from requests) (1.26.16)\n",
            "Requirement already satisfied: certifi>=2017.4.17 in c:\\users\\jrjol\\anaconda\\lib\\site-packages (from requests) (2023.5.7)\n"
          ]
        }
      ],
      "source": [
        "!pip install requests"
      ]
    },
    {
      "cell_type": "code",
      "execution_count": 184,
      "metadata": {
        "id": "2pi_PDcbb3MM"
      },
      "outputs": [],
      "source": [
        "import pandas as pd\n",
        "import yfinance as yf\n",
        "from datetime import datetime\n",
        "from sklearn.model_selection import train_test_split\n",
        "import numpy as np\n",
        "from sklearn.metrics import mean_squared_error, r2_score, mean_absolute_error\n",
        "from sklearn.preprocessing import MinMaxScaler\n",
        "from tensorflow.keras.models import Sequential\n",
        "from keras.layers import LSTM, Dense, Dropout, Bidirectional, InputLayer\n",
        "from tensorflow.keras.optimizers import Adam\n",
        "from tensorflow.keras.callbacks import EarlyStopping\n",
        "import requests\n",
        "import json\n",
        "\n",
        "def checkindicator(url):\n",
        "    r= requests.get(url)\n",
        "    r = r.json()\n",
        "    periods = r['series']['docs'][0]['period']\n",
        "    values = r['series']['docs'][0]['value']\n",
        "    dataset = r['series']['docs'][0]['dataset_name']\n",
        "    indicators = pd.DataFrame(values,index=periods)\n",
        "    indicators.columns = [dataset]\n",
        "    return indicators\n",
        "\n",
        "unemployment_rate = checkindicator(\"https://api.db.nomics.world/v22/series/BLS/ln/LNS13327707?observations=1\")\n",
        "PPI = checkindicator(\"https://api.db.nomics.world/v22/series/OECD/DP_LIVE/USA.PPI.TOT_MKT.IDX2015.M?observations=1\")\n",
        "CPI = checkindicator(\"https://api.db.nomics.world/v22/series/IMF/CPI/M.US.PCPI_IX?observations=1\")\n",
        "interest_rate = checkindicator(\"https://api.db.nomics.world/v22/series/OECD/MEI/USA.IRSTCI01.ST.M?observations=1\")\n"
      ]
    },
    {
      "cell_type": "code",
      "execution_count": 185,
      "metadata": {
        "colab": {
          "base_uri": "https://localhost:8080/"
        },
        "id": "rfwHxVJSf6-g",
        "outputId": "af8672c8-73f7-4774-9f03-8f4a9a633ebd"
      },
      "outputs": [
        {
          "name": "stdout",
          "output_type": "stream",
          "text": [
            "         Labor Force Statistics including the National Unemployment Rate\n",
            "1999-01                                                4.5              \n",
            "1999-02                                                4.6              \n",
            "1999-03                                                4.4              \n",
            "1999-04                                                4.5              \n",
            "1999-05                                                4.4              \n",
            "...                                                    ...              \n",
            "2023-05                                                3.9              \n",
            "2023-06                                                3.7              \n",
            "2023-07                                                3.7              \n",
            "2023-08                                                4.0              \n",
            "2023-09                                                4.0              \n",
            "\n",
            "[297 rows x 1 columns]\n"
          ]
        }
      ],
      "source": [
        "# unemployment rate\n",
        "# \"https://db.nomics.world/BLS/ln/LNS13327707\"\n",
        "# unemployment_rate = checkindicator(\"https://api.db.nomics.world/v22/series/BLS/ln/LNS13327707?observations=1\")\n",
        "\n",
        "new_unemployment_rate = unemployment_rate.loc[unemployment_rate.index>='1999-01']\n",
        "print(new_unemployment_rate)\n"
      ]
    },
    {
      "cell_type": "code",
      "execution_count": 186,
      "metadata": {
        "colab": {
          "base_uri": "https://localhost:8080/"
        },
        "id": "OVm3P2G9jY0h",
        "outputId": "e1517388-b848-4200-e96c-bdf988e3a3ba"
      },
      "outputs": [
        {
          "name": "stdout",
          "output_type": "stream",
          "text": [
            "         OECD Data Live dataset\n",
            "1999-01                68.01402\n",
            "1999-02                67.85233\n",
            "1999-03                68.06791\n",
            "1999-04                68.66074\n",
            "1999-05                68.82242\n",
            "...                         ...\n",
            "2022-08               135.53970\n",
            "2022-09               135.82860\n",
            "2022-10               136.88980\n",
            "2022-11               136.27220\n",
            "2022-12               131.74990\n",
            "\n",
            "[288 rows x 1 columns]\n",
            "Index(['OECD Data Live dataset'], dtype='object')\n"
          ]
        }
      ],
      "source": [
        "# PPI with 2015 = 100\n",
        "# https://db.nomics.world/OECD/DP_LIVE/USA.PPI.TOT_MKT.IDX2015.M\n",
        "# PPI = checkindicator(\"https://api.db.nomics.world/v22/series/OECD/DP_LIVE/USA.PPI.TOT_MKT.IDX2015.M?observations=1\")\n",
        "\n",
        "new_PPI = PPI.loc[PPI.index>='1999-01']\n",
        "print(new_PPI)\n",
        "print(new_PPI.columns)\n"
      ]
    },
    {
      "cell_type": "code",
      "execution_count": 187,
      "metadata": {
        "colab": {
          "base_uri": "https://localhost:8080/"
        },
        "id": "BxDmzFLJnbtp",
        "outputId": "94ce1b87-a5e6-4da8-912f-248795db3c9c"
      },
      "outputs": [
        {
          "name": "stdout",
          "output_type": "stream",
          "text": [
            "         Consumer Price Index (CPI)\n",
            "1999-01                   75.347790\n",
            "1999-02                   75.439510\n",
            "1999-03                   75.668809\n",
            "1999-04                   76.219128\n",
            "1999-05                   76.219128\n",
            "...                             ...\n",
            "2023-04                  139.121921\n",
            "2023-05                  139.472290\n",
            "2023-06                  139.922634\n",
            "2023-07                  140.189539\n",
            "2023-08                  140.801768\n",
            "\n",
            "[296 rows x 1 columns]\n"
          ]
        }
      ],
      "source": [
        "# CPI\n",
        "# https://db.nomics.world/IMF/CPI/M.US.PCPI_IX\n",
        "# CPI = checkindicator(\"https://api.db.nomics.world/v22/series/IMF/CPI/M.US.PCPI_IX?observations=1\")\n",
        "new_CPI = CPI.loc[CPI.index>='1999-01']\n",
        "print(new_CPI)"
      ]
    },
    {
      "cell_type": "code",
      "execution_count": 188,
      "metadata": {
        "colab": {
          "base_uri": "https://localhost:8080/"
        },
        "id": "uNW3Vf7rqPVA",
        "outputId": "313b64a3-8596-41a8-f900-fce2161929e0"
      },
      "outputs": [
        {
          "name": "stdout",
          "output_type": "stream",
          "text": [
            "         Main Economic Indicators Publication\n",
            "1999-01                                  4.63\n",
            "1999-02                                  4.76\n",
            "1999-03                                  4.81\n",
            "1999-04                                  4.74\n",
            "1999-05                                  4.74\n",
            "...                                       ...\n",
            "2023-05                                  5.06\n",
            "2023-06                                  5.08\n",
            "2023-07                                  5.12\n",
            "2023-08                                  5.33\n",
            "2023-09                                  5.33\n",
            "\n",
            "[297 rows x 1 columns]\n"
          ]
        }
      ],
      "source": [
        "#interest rate\n",
        "# https://db.nomics.world/OECD/MEI/USA.IRSTCI01.ST.M\n",
        "interest_rate = checkindicator(\"https://api.db.nomics.world/v22/series/OECD/MEI/USA.IRSTCI01.ST.M?observations=1\")\n",
        "new_interest_rate = interest_rate.loc[interest_rate.index>='1999-01']\n",
        "print(new_interest_rate)"
      ]
    },
    {
      "cell_type": "code",
      "execution_count": 189,
      "metadata": {
        "colab": {
          "base_uri": "https://localhost:8080/"
        },
        "id": "n5rgmxcHGEjz",
        "outputId": "540702e6-9276-48d4-f781-be86786c60a0"
      },
      "outputs": [
        {
          "name": "stdout",
          "output_type": "stream",
          "text": [
            "         Composite Leading Indicators (MEI)\n",
            "1999-01                           100.66290\n",
            "1999-02                           100.68400\n",
            "1999-03                           100.69920\n",
            "1999-04                           100.72230\n",
            "1999-05                           100.76580\n",
            "...                                     ...\n",
            "2023-01                            99.86009\n",
            "2023-02                            99.88584\n",
            "2023-03                            99.90692\n",
            "2023-04                            99.92532\n",
            "2023-05                            99.94305\n",
            "\n",
            "[293 rows x 1 columns]\n"
          ]
        }
      ],
      "source": [
        "#normalized GDP  this is the best I can get so far\n",
        "# https://db.nomics.world/OECD/MEI_CLI/LORSGPNO.USA.M\n",
        "normalized_GDP = checkindicator('https://api.db.nomics.world/v22/series/OECD/MEI_CLI/LORSGPNO.USA.M?observations=1')\n",
        "new_normalized_GDP = normalized_GDP.loc[normalized_GDP.index >= '1999-01']\n",
        "print(new_normalized_GDP)"
      ]
    },
    {
      "cell_type": "code",
      "execution_count": 190,
      "metadata": {
        "id": "FbxxoTxG-cOz"
      },
      "outputs": [
        {
          "name": "stderr",
          "output_type": "stream",
          "text": [
            "C:\\Users\\jrjol\\AppData\\Local\\Temp\\ipykernel_1980\\3796664431.py:4: SettingWithCopyWarning: \n",
            "A value is trying to be set on a copy of a slice from a DataFrame.\n",
            "Try using .loc[row_indexer,col_indexer] = value instead\n",
            "\n",
            "See the caveats in the documentation: https://pandas.pydata.org/pandas-docs/stable/user_guide/indexing.html#returning-a-view-versus-a-copy\n",
            "  combined_df['PPI'] = new_PPI['OECD Data Live dataset']\n",
            "C:\\Users\\jrjol\\AppData\\Local\\Temp\\ipykernel_1980\\3796664431.py:5: SettingWithCopyWarning: \n",
            "A value is trying to be set on a copy of a slice from a DataFrame.\n",
            "Try using .loc[row_indexer,col_indexer] = value instead\n",
            "\n",
            "See the caveats in the documentation: https://pandas.pydata.org/pandas-docs/stable/user_guide/indexing.html#returning-a-view-versus-a-copy\n",
            "  combined_df['Unemployment_rate'] = new_unemployment_rate['Labor Force Statistics including the National Unemployment Rate']\n",
            "C:\\Users\\jrjol\\AppData\\Local\\Temp\\ipykernel_1980\\3796664431.py:6: SettingWithCopyWarning: \n",
            "A value is trying to be set on a copy of a slice from a DataFrame.\n",
            "Try using .loc[row_indexer,col_indexer] = value instead\n",
            "\n",
            "See the caveats in the documentation: https://pandas.pydata.org/pandas-docs/stable/user_guide/indexing.html#returning-a-view-versus-a-copy\n",
            "  combined_df['interest_rate'] = new_interest_rate['Main Economic Indicators Publication']\n",
            "C:\\Users\\jrjol\\AppData\\Local\\Temp\\ipykernel_1980\\3796664431.py:7: SettingWithCopyWarning: \n",
            "A value is trying to be set on a copy of a slice from a DataFrame.\n",
            "Try using .loc[row_indexer,col_indexer] = value instead\n",
            "\n",
            "See the caveats in the documentation: https://pandas.pydata.org/pandas-docs/stable/user_guide/indexing.html#returning-a-view-versus-a-copy\n",
            "  combined_df['normalized_GDP'] = new_normalized_GDP['Composite Leading Indicators (MEI)']\n"
          ]
        }
      ],
      "source": [
        "# new_CPI['PPI'] = new_PPI['OECD Data Live dataset']\n",
        "\n",
        "combined_df = new_CPI\n",
        "combined_df['PPI'] = new_PPI['OECD Data Live dataset']\n",
        "combined_df['Unemployment_rate'] = new_unemployment_rate['Labor Force Statistics including the National Unemployment Rate']\n",
        "combined_df['interest_rate'] = new_interest_rate['Main Economic Indicators Publication']\n",
        "combined_df['normalized_GDP'] = new_normalized_GDP['Composite Leading Indicators (MEI)']\n"
      ]
    },
    {
      "cell_type": "code",
      "execution_count": 191,
      "metadata": {
        "colab": {
          "base_uri": "https://localhost:8080/"
        },
        "id": "dgLTjboT_Fqn",
        "outputId": "d4c8ac15-b7c7-418b-a982-ef9b73ed2315"
      },
      "outputs": [
        {
          "name": "stdout",
          "output_type": "stream",
          "text": [
            "         Consumer Price Index (CPI)       PPI  Unemployment_rate  \\\n",
            "1999-01                   75.347790  68.01402                4.5   \n",
            "1999-02                   75.439510  67.85233                4.6   \n",
            "1999-03                   75.668809  68.06791                4.4   \n",
            "1999-04                   76.219128  68.66074                4.5   \n",
            "1999-05                   76.219128  68.82242                4.4   \n",
            "...                             ...       ...                ...   \n",
            "2023-04                  139.121921       NaN                3.6   \n",
            "2023-05                  139.472290       NaN                3.9   \n",
            "2023-06                  139.922634       NaN                3.7   \n",
            "2023-07                  140.189539       NaN                3.7   \n",
            "2023-08                  140.801768       NaN                4.0   \n",
            "\n",
            "         interest_rate  normalized_GDP  \n",
            "1999-01           4.63       100.66290  \n",
            "1999-02           4.76       100.68400  \n",
            "1999-03           4.81       100.69920  \n",
            "1999-04           4.74       100.72230  \n",
            "1999-05           4.74       100.76580  \n",
            "...                ...             ...  \n",
            "2023-04           4.83        99.92532  \n",
            "2023-05           5.06        99.94305  \n",
            "2023-06           5.08             NaN  \n",
            "2023-07           5.12             NaN  \n",
            "2023-08           5.33             NaN  \n",
            "\n",
            "[296 rows x 5 columns]\n",
            "296\n"
          ]
        }
      ],
      "source": [
        "print(combined_df)\n",
        "print(len(combined_df))"
      ]
    },
    {
      "cell_type": "code",
      "execution_count": 192,
      "metadata": {
        "id": "BZQzAcF7_OO-"
      },
      "outputs": [
        {
          "name": "stdout",
          "output_type": "stream",
          "text": [
            "[*********************100%***********************]  1 of 1 completed\n",
            "                Open         High          Low        Close    Adj Close  \\\n",
            "1999-01  1229.229980  1280.369995  1205.459961  1279.640015  1279.640015   \n",
            "1999-02  1279.640015  1283.839966  1211.890015  1238.329956  1238.329956   \n",
            "1999-03  1238.329956  1323.819946  1216.030029  1286.369995  1286.369995   \n",
            "1999-04  1286.369995  1371.560059  1282.560059  1335.180054  1335.180054   \n",
            "1999-05  1335.180054  1375.979980  1277.310059  1301.839966  1301.839966   \n",
            "\n",
            "              Volume  \n",
            "1999-01  16213500000  \n",
            "1999-02  14555860000  \n",
            "1999-03  18002500000  \n",
            "1999-04  18523200000  \n",
            "1999-05  15880260000  \n",
            "296\n"
          ]
        }
      ],
      "source": [
        "spy_data = yf.download(\"^GSPC\", start=\"1999-01-01\", end=\"2023-09-01\", interval=\"1mo\")\n",
        "'''2023-08-01 (2023-08) represents the Open High Low Close Volume for '''\n",
        "spy_data = spy_data.reindex(combined_df.index)\n",
        "print(spy_data.head())\n",
        "print(len(spy_data))"
      ]
    },
    {
      "cell_type": "code",
      "execution_count": 193,
      "metadata": {},
      "outputs": [
        {
          "name": "stdout",
          "output_type": "stream",
          "text": [
            "         Consumer Price Index (CPI)       PPI  Unemployment_rate  \\\n",
            "1999-01                   75.347790  68.01402                4.5   \n",
            "1999-02                   75.439510  67.85233                4.6   \n",
            "1999-03                   75.668809  68.06791                4.4   \n",
            "1999-04                   76.219128  68.66074                4.5   \n",
            "1999-05                   76.219128  68.82242                4.4   \n",
            "...                             ...       ...                ...   \n",
            "2023-04                  139.121921       NaN                3.6   \n",
            "2023-05                  139.472290       NaN                3.9   \n",
            "2023-06                  139.922634       NaN                3.7   \n",
            "2023-07                  140.189539       NaN                3.7   \n",
            "2023-08                  140.801768       NaN                4.0   \n",
            "\n",
            "         interest_rate  normalized_GDP         Open         High          Low  \\\n",
            "1999-01           4.63       100.66290  1229.229980  1280.369995  1205.459961   \n",
            "1999-02           4.76       100.68400  1279.640015  1283.839966  1211.890015   \n",
            "1999-03           4.81       100.69920  1238.329956  1323.819946  1216.030029   \n",
            "1999-04           4.74       100.72230  1286.369995  1371.560059  1282.560059   \n",
            "1999-05           4.74       100.76580  1335.180054  1375.979980  1277.310059   \n",
            "...                ...             ...          ...          ...          ...   \n",
            "2023-04           4.83        99.92532  4102.200195  4170.060059  4049.350098   \n",
            "2023-05           5.06        99.94305  4166.790039  4231.100098  4048.280029   \n",
            "2023-06           5.08             NaN  4183.029785  4458.479980  4171.640137   \n",
            "2023-07           5.12             NaN  4450.479980  4607.069824  4385.049805   \n",
            "2023-08           5.33             NaN  4578.830078  4584.620117  4335.310059   \n",
            "\n",
            "               Close    Adj Close       Volume  \n",
            "1999-01  1279.640015  1279.640015  16213500000  \n",
            "1999-02  1238.329956  1238.329956  14555860000  \n",
            "1999-03  1286.369995  1286.369995  18002500000  \n",
            "1999-04  1335.180054  1335.180054  18523200000  \n",
            "1999-05  1301.839966  1301.839966  15880260000  \n",
            "...              ...          ...          ...  \n",
            "2023-04  4169.479980  4169.479980  70861260000  \n",
            "2023-05  4179.830078  4179.830078  88929200000  \n",
            "2023-06  4450.379883  4450.379883  87983140000  \n",
            "2023-07  4588.959961  4588.959961  75063200000  \n",
            "2023-08  4507.660156  4507.660156  86840820000  \n",
            "\n",
            "[296 rows x 11 columns]\n"
          ]
        }
      ],
      "source": [
        "spy_data = spy_data.reindex(combined_df.index)\n",
        "Main_df = pd.concat([combined_df, spy_data], axis=1)\n",
        "\n",
        "\n",
        "# Print the result\n",
        "print(Main_df)"
      ]
    },
    {
      "cell_type": "code",
      "execution_count": 194,
      "metadata": {},
      "outputs": [
        {
          "name": "stdout",
          "output_type": "stream",
          "text": [
            "                       Feature     Min Value     Max Value\n",
            "0   Consumer Price Index (CPI)  7.534779e+01  1.408018e+02\n",
            "1                          PPI  6.785233e+01  1.414271e+02\n",
            "2            Unemployment_rate  3.600000e+00  1.510000e+01\n",
            "3                interest_rate  5.000000e-02  6.540000e+00\n",
            "4               normalized_GDP  9.203044e+01  1.018704e+02\n",
            "5                         Open  7.295700e+02  4.778140e+03\n",
            "6                         High  8.329800e+02  4.818620e+03\n",
            "7                          Low  6.667900e+02  4.560000e+03\n",
            "8                        Close  7.350900e+02  4.766180e+03\n",
            "9                    Adj Close  7.350900e+02  4.766180e+03\n",
            "10                      Volume  1.455586e+10  1.621854e+11\n",
            "[[0.         0.00219763 0.07826087 ... 0.13508752 0.13508752 0.01122838]\n",
            " [0.00140129 0.         0.08695652 ... 0.12483966 0.12483966 0.        ]\n",
            " [0.0049045  0.00293008 0.06956522 ... 0.13675704 0.13675704 0.02334655]\n",
            " ...\n",
            " [0.98656867        nan 0.00869565 ... 0.92165884 0.92165884 0.49737532]\n",
            " [0.99064641        nan 0.00869565 ... 0.95603665 0.95603665 0.40985936]\n",
            " [1.                nan 0.03478261 ... 0.93586846 0.93586846 0.48963757]]\n",
            "296\n"
          ]
        }
      ],
      "source": [
        "feature_scaler=MinMaxScaler()\n",
        "scaled_data=feature_scaler.fit_transform(Main_df)\n",
        "min_values = feature_scaler.data_min_\n",
        "max_values = feature_scaler.data_max_\n",
        "\n",
        "\n",
        "scaling_factors_df = pd.DataFrame({'Feature': Main_df.columns,\n",
        "                                   'Min Value': min_values,\n",
        "                                   'Max Value': max_values})\n",
        "\n",
        "print(scaling_factors_df)\n",
        "\n",
        "print(scaled_data)\n",
        "print(len(scaled_data))\n"
      ]
    },
    {
      "cell_type": "code",
      "execution_count": 195,
      "metadata": {},
      "outputs": [],
      "source": [
        "look_back=8\n",
        "\n",
        "def create_dataset(data, look_back):\n",
        "    X, y = [], []\n",
        "    for i in range(look_back, len(data)-1):\n",
        "        X.append(data[i-look_back:i, :])\n",
        "        y.append(data[i+1, 8])\n",
        "    return np.array(X), np.array(y)"
      ]
    },
    {
      "cell_type": "code",
      "execution_count": 196,
      "metadata": {},
      "outputs": [],
      "source": [
        "train_data, test_data=train_test_split(scaled_data, test_size=0.4, shuffle=False)\n",
        "val_data, test_data = train_test_split(test_data, test_size=0.5, shuffle=False)\n",
        "\n",
        "X_train, Y_train=create_dataset(train_data, look_back)\n",
        "X_test, Y_test=create_dataset(test_data, look_back)\n",
        "X_val, Y_val=create_dataset(val_data, look_back)"
      ]
    },
    {
      "cell_type": "code",
      "execution_count": 197,
      "metadata": {},
      "outputs": [
        {
          "name": "stdout",
          "output_type": "stream",
          "text": [
            "Epoch 1/50\n",
            "21/21 [==============================] - 4s 45ms/step - loss: 0.0078 - val_loss: 0.0705\n",
            "Epoch 2/50\n",
            "21/21 [==============================] - 0s 9ms/step - loss: 0.0014 - val_loss: 0.0427\n",
            "Epoch 3/50\n",
            "21/21 [==============================] - 0s 10ms/step - loss: 8.7866e-04 - val_loss: 0.0260\n",
            "Epoch 4/50\n",
            "21/21 [==============================] - 0s 9ms/step - loss: 6.4241e-04 - val_loss: 0.0110\n",
            "Epoch 5/50\n",
            "21/21 [==============================] - 0s 9ms/step - loss: 6.3630e-04 - val_loss: 0.0161\n",
            "Epoch 6/50\n",
            "21/21 [==============================] - 0s 8ms/step - loss: 5.2639e-04 - val_loss: 0.0123\n",
            "Epoch 7/50\n",
            "21/21 [==============================] - 0s 7ms/step - loss: 4.6424e-04 - val_loss: 0.0097\n",
            "Epoch 8/50\n",
            "21/21 [==============================] - 0s 9ms/step - loss: 4.2485e-04 - val_loss: 0.0112\n",
            "Epoch 9/50\n",
            "21/21 [==============================] - 0s 9ms/step - loss: 4.7024e-04 - val_loss: 0.0128\n",
            "Epoch 10/50\n",
            "21/21 [==============================] - 0s 9ms/step - loss: 6.0426e-04 - val_loss: 0.0165\n",
            "Epoch 11/50\n",
            "21/21 [==============================] - 0s 8ms/step - loss: 6.1275e-04 - val_loss: 0.0095\n",
            "Epoch 12/50\n",
            "21/21 [==============================] - 0s 7ms/step - loss: 4.7576e-04 - val_loss: 0.0089\n",
            "Epoch 13/50\n",
            "21/21 [==============================] - 0s 8ms/step - loss: 4.6870e-04 - val_loss: 0.0078\n",
            "Epoch 14/50\n",
            "21/21 [==============================] - 0s 8ms/step - loss: 4.7513e-04 - val_loss: 0.0104\n",
            "Epoch 15/50\n",
            "21/21 [==============================] - 0s 8ms/step - loss: 3.7332e-04 - val_loss: 0.0082\n",
            "Epoch 16/50\n",
            "21/21 [==============================] - 0s 8ms/step - loss: 4.3702e-04 - val_loss: 0.0108\n",
            "Epoch 17/50\n",
            "21/21 [==============================] - 0s 8ms/step - loss: 3.6451e-04 - val_loss: 0.0072\n",
            "Epoch 18/50\n",
            "21/21 [==============================] - 0s 7ms/step - loss: 3.7264e-04 - val_loss: 0.0078\n",
            "Epoch 19/50\n",
            "21/21 [==============================] - 0s 8ms/step - loss: 3.5575e-04 - val_loss: 0.0085\n",
            "Epoch 20/50\n",
            "21/21 [==============================] - 0s 8ms/step - loss: 4.1533e-04 - val_loss: 0.0098\n",
            "Epoch 21/50\n",
            "21/21 [==============================] - 0s 8ms/step - loss: 3.4529e-04 - val_loss: 0.0066\n",
            "Epoch 22/50\n",
            "21/21 [==============================] - 0s 9ms/step - loss: 3.7023e-04 - val_loss: 0.0073\n",
            "Epoch 23/50\n",
            "21/21 [==============================] - 0s 7ms/step - loss: 3.8223e-04 - val_loss: 0.0106\n",
            "Epoch 24/50\n",
            "21/21 [==============================] - 0s 7ms/step - loss: 3.5260e-04 - val_loss: 0.0136\n",
            "Epoch 25/50\n",
            "21/21 [==============================] - 0s 10ms/step - loss: 5.1064e-04 - val_loss: 0.0134\n",
            "Epoch 26/50\n",
            "21/21 [==============================] - 0s 11ms/step - loss: 3.8088e-04 - val_loss: 0.0076\n",
            "Epoch 27/50\n",
            "21/21 [==============================] - 0s 10ms/step - loss: 3.7243e-04 - val_loss: 0.0097\n",
            "Epoch 28/50\n",
            "21/21 [==============================] - 0s 7ms/step - loss: 3.8814e-04 - val_loss: 0.0084\n",
            "Epoch 29/50\n",
            "21/21 [==============================] - 0s 8ms/step - loss: 3.4957e-04 - val_loss: 0.0097\n",
            "Epoch 30/50\n",
            "21/21 [==============================] - 0s 7ms/step - loss: 3.4447e-04 - val_loss: 0.0095\n",
            "Epoch 31/50\n",
            "12/21 [================>.............] - ETA: 0s - loss: 3.1594e-04Restoring model weights from the end of the best epoch: 21.\n",
            "21/21 [==============================] - 0s 7ms/step - loss: 3.4539e-04 - val_loss: 0.0134\n",
            "Epoch 31: early stopping\n"
          ]
        },
        {
          "data": {
            "text/plain": [
              "<keras.src.callbacks.History at 0x2a2575ad490>"
            ]
          },
          "execution_count": 197,
          "metadata": {},
          "output_type": "execute_result"
        }
      ],
      "source": [
        "model = Sequential()\n",
        "model.add(InputLayer(input_shape=(X_train.shape[1], X_train.shape[2])))\n",
        "model.add(LSTM(32))\n",
        "model.add(Dense(8, activation='relu'))\n",
        "model.add(Dense(1, activation='linear'))\n",
        "\n",
        "optimizer=Adam(learning_rate=0.01)\n",
        "model.compile(optimizer=optimizer, loss='mean_squared_error')\n",
        "\n",
        "early_stopping=EarlyStopping(monitor='val_loss', patience=10, verbose=1, restore_best_weights=True)\n",
        "\n",
        "model.fit(X_train, Y_train, epochs=50, batch_size=8, validation_data=(X_val, Y_val), callbacks=[early_stopping])"
      ]
    },
    {
      "cell_type": "code",
      "execution_count": 198,
      "metadata": {},
      "outputs": [
        {
          "name": "stdout",
          "output_type": "stream",
          "text": [
            "2/2 [==============================] - 0s 4ms/step\n"
          ]
        }
      ],
      "source": [
        "predicted_prices_scaled=model.predict(X_test)"
      ]
    },
    {
      "cell_type": "markdown",
      "metadata": {},
      "source": []
    },
    {
      "cell_type": "code",
      "execution_count": null,
      "metadata": {},
      "outputs": [],
      "source": []
    },
    {
      "cell_type": "code",
      "execution_count": null,
      "metadata": {},
      "outputs": [],
      "source": []
    }
  ],
  "metadata": {
    "colab": {
      "provenance": []
    },
    "kernelspec": {
      "display_name": "Python 3",
      "name": "python3"
    },
    "language_info": {
      "codemirror_mode": {
        "name": "ipython",
        "version": 3
      },
      "file_extension": ".py",
      "mimetype": "text/x-python",
      "name": "python",
      "nbconvert_exporter": "python",
      "pygments_lexer": "ipython3",
      "version": "3.11.3"
    }
  },
  "nbformat": 4,
  "nbformat_minor": 0
}
